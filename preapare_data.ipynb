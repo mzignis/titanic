{
  "nbformat": 4,
  "nbformat_minor": 0,
  "metadata": {
    "colab": {
      "name": "preapare_data.ipynb",
      "provenance": [],
      "collapsed_sections": [],
      "mount_file_id": "1LIBezsLl5nwlTvTSWuCb3J_FDgw7ATyN",
      "authorship_tag": "ABX9TyPtMjEZZFuHKY7OGG47uN0o",
      "include_colab_link": true
    },
    "kernelspec": {
      "name": "python3",
      "display_name": "Python 3"
    }
  },
  "cells": [
    {
      "cell_type": "markdown",
      "metadata": {
        "id": "view-in-github",
        "colab_type": "text"
      },
      "source": [
        "<a href=\"https://colab.research.google.com/github/mzignis/titanic/blob/master/preapare_data.ipynb\" target=\"_parent\"><img src=\"https://colab.research.google.com/assets/colab-badge.svg\" alt=\"Open In Colab\"/></a>"
      ]
    },
    {
      "cell_type": "code",
      "metadata": {
        "id": "hpZb0eoyyqjf",
        "colab_type": "code",
        "colab": {}
      },
      "source": [
        "import os\n",
        "\n",
        "import matplotlib.pyplot as plt\n",
        "import numpy as np\n",
        "import pandas as pd\n",
        "import seaborn as sns\n",
        "\n",
        "from sklearn.preprocessing import LabelEncoder, StandardScaler\n",
        "\n",
        "sns.set()"
      ],
      "execution_count": 68,
      "outputs": []
    },
    {
      "cell_type": "code",
      "metadata": {
        "id": "yLkgsdFPy01G",
        "colab_type": "code",
        "colab": {
          "base_uri": "https://localhost:8080/",
          "height": 34
        },
        "outputId": "026ae58e-f829-4528-a79d-44b07e8052d3"
      },
      "source": [
        "HOME = '/content/drive/My Drive/ml_competition/titanic'\n",
        "%cd $HOME"
      ],
      "execution_count": 2,
      "outputs": [
        {
          "output_type": "stream",
          "text": [
            "/content/drive/My Drive/ml_competition/titanic\n"
          ],
          "name": "stdout"
        }
      ]
    },
    {
      "cell_type": "code",
      "metadata": {
        "id": "frHNPKFqy_gS",
        "colab_type": "code",
        "colab": {
          "base_uri": "https://localhost:8080/",
          "height": 34
        },
        "outputId": "501226b7-b1b2-4339-febf-457d3126d844"
      },
      "source": [
        "data_dir = os.path.join(HOME, 'data')\n",
        "os.listdir(data_dir)"
      ],
      "execution_count": 3,
      "outputs": [
        {
          "output_type": "execute_result",
          "data": {
            "text/plain": [
              "['test.csv', 'train.csv', 'gender_submission.csv']"
            ]
          },
          "metadata": {
            "tags": []
          },
          "execution_count": 3
        }
      ]
    },
    {
      "cell_type": "code",
      "metadata": {
        "id": "mPbGGVY-4kzY",
        "colab_type": "code",
        "colab": {
          "base_uri": "https://localhost:8080/",
          "height": 238
        },
        "outputId": "edec14a2-98fd-4802-bed1-b341a72dac1e"
      },
      "source": [
        "train_df = pd.read_csv(os.path.join(data_dir, 'train.csv'))\n",
        "train_df.head()"
      ],
      "execution_count": 60,
      "outputs": [
        {
          "output_type": "execute_result",
          "data": {
            "text/html": [
              "<div>\n",
              "<style scoped>\n",
              "    .dataframe tbody tr th:only-of-type {\n",
              "        vertical-align: middle;\n",
              "    }\n",
              "\n",
              "    .dataframe tbody tr th {\n",
              "        vertical-align: top;\n",
              "    }\n",
              "\n",
              "    .dataframe thead th {\n",
              "        text-align: right;\n",
              "    }\n",
              "</style>\n",
              "<table border=\"1\" class=\"dataframe\">\n",
              "  <thead>\n",
              "    <tr style=\"text-align: right;\">\n",
              "      <th></th>\n",
              "      <th>PassengerId</th>\n",
              "      <th>Survived</th>\n",
              "      <th>Pclass</th>\n",
              "      <th>Name</th>\n",
              "      <th>Sex</th>\n",
              "      <th>Age</th>\n",
              "      <th>SibSp</th>\n",
              "      <th>Parch</th>\n",
              "      <th>Ticket</th>\n",
              "      <th>Fare</th>\n",
              "      <th>Cabin</th>\n",
              "      <th>Embarked</th>\n",
              "    </tr>\n",
              "  </thead>\n",
              "  <tbody>\n",
              "    <tr>\n",
              "      <th>0</th>\n",
              "      <td>1</td>\n",
              "      <td>0</td>\n",
              "      <td>3</td>\n",
              "      <td>Braund, Mr. Owen Harris</td>\n",
              "      <td>male</td>\n",
              "      <td>22.0</td>\n",
              "      <td>1</td>\n",
              "      <td>0</td>\n",
              "      <td>A/5 21171</td>\n",
              "      <td>7.2500</td>\n",
              "      <td>NaN</td>\n",
              "      <td>S</td>\n",
              "    </tr>\n",
              "    <tr>\n",
              "      <th>1</th>\n",
              "      <td>2</td>\n",
              "      <td>1</td>\n",
              "      <td>1</td>\n",
              "      <td>Cumings, Mrs. John Bradley (Florence Briggs Th...</td>\n",
              "      <td>female</td>\n",
              "      <td>38.0</td>\n",
              "      <td>1</td>\n",
              "      <td>0</td>\n",
              "      <td>PC 17599</td>\n",
              "      <td>71.2833</td>\n",
              "      <td>C85</td>\n",
              "      <td>C</td>\n",
              "    </tr>\n",
              "    <tr>\n",
              "      <th>2</th>\n",
              "      <td>3</td>\n",
              "      <td>1</td>\n",
              "      <td>3</td>\n",
              "      <td>Heikkinen, Miss. Laina</td>\n",
              "      <td>female</td>\n",
              "      <td>26.0</td>\n",
              "      <td>0</td>\n",
              "      <td>0</td>\n",
              "      <td>STON/O2. 3101282</td>\n",
              "      <td>7.9250</td>\n",
              "      <td>NaN</td>\n",
              "      <td>S</td>\n",
              "    </tr>\n",
              "    <tr>\n",
              "      <th>3</th>\n",
              "      <td>4</td>\n",
              "      <td>1</td>\n",
              "      <td>1</td>\n",
              "      <td>Futrelle, Mrs. Jacques Heath (Lily May Peel)</td>\n",
              "      <td>female</td>\n",
              "      <td>35.0</td>\n",
              "      <td>1</td>\n",
              "      <td>0</td>\n",
              "      <td>113803</td>\n",
              "      <td>53.1000</td>\n",
              "      <td>C123</td>\n",
              "      <td>S</td>\n",
              "    </tr>\n",
              "    <tr>\n",
              "      <th>4</th>\n",
              "      <td>5</td>\n",
              "      <td>0</td>\n",
              "      <td>3</td>\n",
              "      <td>Allen, Mr. William Henry</td>\n",
              "      <td>male</td>\n",
              "      <td>35.0</td>\n",
              "      <td>0</td>\n",
              "      <td>0</td>\n",
              "      <td>373450</td>\n",
              "      <td>8.0500</td>\n",
              "      <td>NaN</td>\n",
              "      <td>S</td>\n",
              "    </tr>\n",
              "  </tbody>\n",
              "</table>\n",
              "</div>"
            ],
            "text/plain": [
              "   PassengerId  Survived  Pclass  ...     Fare Cabin  Embarked\n",
              "0            1         0       3  ...   7.2500   NaN         S\n",
              "1            2         1       1  ...  71.2833   C85         C\n",
              "2            3         1       3  ...   7.9250   NaN         S\n",
              "3            4         1       1  ...  53.1000  C123         S\n",
              "4            5         0       3  ...   8.0500   NaN         S\n",
              "\n",
              "[5 rows x 12 columns]"
            ]
          },
          "metadata": {
            "tags": []
          },
          "execution_count": 60
        }
      ]
    },
    {
      "cell_type": "code",
      "metadata": {
        "id": "M-vV6jj04tB9",
        "colab_type": "code",
        "colab": {
          "base_uri": "https://localhost:8080/",
          "height": 34
        },
        "outputId": "67a3c429-c4c8-459a-efd2-57e2c9cccdcd"
      },
      "source": [
        "def fill_age(df):\n",
        "    df['Age'] = df['Age'].fillna(df['Age'].median())\n",
        "    return df\n",
        "\n",
        "fill_age(train_df)\n",
        "train_df.Age.isna().sum()"
      ],
      "execution_count": 61,
      "outputs": [
        {
          "output_type": "execute_result",
          "data": {
            "text/plain": [
              "0"
            ]
          },
          "metadata": {
            "tags": []
          },
          "execution_count": 61
        }
      ]
    },
    {
      "cell_type": "code",
      "metadata": {
        "id": "MU_0Vn9p5E43",
        "colab_type": "code",
        "colab": {
          "base_uri": "https://localhost:8080/",
          "height": 34
        },
        "outputId": "e1d3eb31-d5ff-45b5-8e4b-d9b2c7c8a50d"
      },
      "source": [
        "def encode_sex(df):\n",
        "    lbl_encoder = LabelEncoder()\n",
        "    encoded_sex = lbl_encoder.fit_transform(df['Sex'])\n",
        "    df['Sex'] = encoded_sex\n",
        "    return df\n",
        "\n",
        "encode_sex(train_df)\n",
        "train_df['Sex'].unique()"
      ],
      "execution_count": 62,
      "outputs": [
        {
          "output_type": "execute_result",
          "data": {
            "text/plain": [
              "array([1, 0])"
            ]
          },
          "metadata": {
            "tags": []
          },
          "execution_count": 62
        }
      ]
    },
    {
      "cell_type": "code",
      "metadata": {
        "id": "iOSrShv35wrv",
        "colab_type": "code",
        "colab": {
          "base_uri": "https://localhost:8080/",
          "height": 80
        },
        "outputId": "74ee0ba5-debe-47d2-826c-559ab56816f3"
      },
      "source": [
        "def scrap_digit(text):\n",
        "    digits = [int(s) for s in text.split() if s.isdigit()]\n",
        "    digit = digits[0] if digits else 0\n",
        "    return digit\n",
        "\n",
        "def scrap_ticket_number(df):\n",
        "    df['Ticket'] = df['Ticket'].apply(scrap_digit)\n",
        "    return df\n",
        "\n",
        "scrap_ticket_number(train_df)\n",
        "train_df.sample()"
      ],
      "execution_count": 63,
      "outputs": [
        {
          "output_type": "execute_result",
          "data": {
            "text/html": [
              "<div>\n",
              "<style scoped>\n",
              "    .dataframe tbody tr th:only-of-type {\n",
              "        vertical-align: middle;\n",
              "    }\n",
              "\n",
              "    .dataframe tbody tr th {\n",
              "        vertical-align: top;\n",
              "    }\n",
              "\n",
              "    .dataframe thead th {\n",
              "        text-align: right;\n",
              "    }\n",
              "</style>\n",
              "<table border=\"1\" class=\"dataframe\">\n",
              "  <thead>\n",
              "    <tr style=\"text-align: right;\">\n",
              "      <th></th>\n",
              "      <th>PassengerId</th>\n",
              "      <th>Survived</th>\n",
              "      <th>Pclass</th>\n",
              "      <th>Name</th>\n",
              "      <th>Sex</th>\n",
              "      <th>Age</th>\n",
              "      <th>SibSp</th>\n",
              "      <th>Parch</th>\n",
              "      <th>Ticket</th>\n",
              "      <th>Fare</th>\n",
              "      <th>Cabin</th>\n",
              "      <th>Embarked</th>\n",
              "    </tr>\n",
              "  </thead>\n",
              "  <tbody>\n",
              "    <tr>\n",
              "      <th>890</th>\n",
              "      <td>891</td>\n",
              "      <td>0</td>\n",
              "      <td>3</td>\n",
              "      <td>Dooley, Mr. Patrick</td>\n",
              "      <td>1</td>\n",
              "      <td>32.0</td>\n",
              "      <td>0</td>\n",
              "      <td>0</td>\n",
              "      <td>370376</td>\n",
              "      <td>7.75</td>\n",
              "      <td>NaN</td>\n",
              "      <td>Q</td>\n",
              "    </tr>\n",
              "  </tbody>\n",
              "</table>\n",
              "</div>"
            ],
            "text/plain": [
              "     PassengerId  Survived  Pclass  ...  Fare  Cabin  Embarked\n",
              "890          891         0       3  ...  7.75    NaN         Q\n",
              "\n",
              "[1 rows x 12 columns]"
            ]
          },
          "metadata": {
            "tags": []
          },
          "execution_count": 63
        }
      ]
    },
    {
      "cell_type": "code",
      "metadata": {
        "id": "5vCk_Fwe852g",
        "colab_type": "code",
        "colab": {
          "base_uri": "https://localhost:8080/",
          "height": 68
        },
        "outputId": "8b457065-d033-405d-956b-3651f3cf444c"
      },
      "source": [
        "def one_hot_encode_embarked(df):\n",
        "    filled_embarked = df['Embarked'].fillna(df['Embarked'].value_counts().index[0],)\n",
        "    encoded_embarked = pd.get_dummies(filled_embarked)\n",
        "    df = pd.concat([df, encoded_embarked], axis=1)\n",
        "    df.drop(columns=['Embarked'], inplace=True)\n",
        "    return df\n",
        "\n",
        "train_df = one_hot_encode_embarked(train_df)\n",
        "train_df.columns"
      ],
      "execution_count": 64,
      "outputs": [
        {
          "output_type": "execute_result",
          "data": {
            "text/plain": [
              "Index(['PassengerId', 'Survived', 'Pclass', 'Name', 'Sex', 'Age', 'SibSp',\n",
              "       'Parch', 'Ticket', 'Fare', 'Cabin', 'C', 'Q', 'S'],\n",
              "      dtype='object')"
            ]
          },
          "metadata": {
            "tags": []
          },
          "execution_count": 64
        }
      ]
    },
    {
      "cell_type": "code",
      "metadata": {
        "id": "_XU2pDWbBj5V",
        "colab_type": "code",
        "colab": {
          "base_uri": "https://localhost:8080/",
          "height": 359
        },
        "outputId": "b8b2c183-c33e-4115-f434-962636648dc6"
      },
      "source": [
        "def preprocessing_data(csv_name, scaller=None):\n",
        "    df = pd.read_csv(os.path.join(data_dir, csv_name))\n",
        "    df = fill_age(df)\n",
        "    df = encode_sex(df)\n",
        "    df = scrap_ticket_number(df)\n",
        "    df = one_hot_encode_embarked(df)\n",
        "    df = df.drop(columns=['Cabin', 'Name', 'PassengerId'])\n",
        "\n",
        "    columns = ['Age', 'Pclass', 'SibSp', 'Parch', 'Ticket', 'Fare']\n",
        "    if not scaller:\n",
        "        std_scaller = StandardScaler()\n",
        "        std_scaller.fit(df[columns])\n",
        "    else:\n",
        "        std_scaller = scaller\n",
        "    df[columns] = std_scaller.transform(df[columns])\n",
        "    return df, std_scaller\n",
        "\n",
        "train_df, scaller = preprocessing_data('train.csv')\n",
        "train_df.sample(10)"
      ],
      "execution_count": 83,
      "outputs": [
        {
          "output_type": "execute_result",
          "data": {
            "text/html": [
              "<div>\n",
              "<style scoped>\n",
              "    .dataframe tbody tr th:only-of-type {\n",
              "        vertical-align: middle;\n",
              "    }\n",
              "\n",
              "    .dataframe tbody tr th {\n",
              "        vertical-align: top;\n",
              "    }\n",
              "\n",
              "    .dataframe thead th {\n",
              "        text-align: right;\n",
              "    }\n",
              "</style>\n",
              "<table border=\"1\" class=\"dataframe\">\n",
              "  <thead>\n",
              "    <tr style=\"text-align: right;\">\n",
              "      <th></th>\n",
              "      <th>Survived</th>\n",
              "      <th>Pclass</th>\n",
              "      <th>Sex</th>\n",
              "      <th>Age</th>\n",
              "      <th>SibSp</th>\n",
              "      <th>Parch</th>\n",
              "      <th>Ticket</th>\n",
              "      <th>Fare</th>\n",
              "      <th>C</th>\n",
              "      <th>Q</th>\n",
              "      <th>S</th>\n",
              "    </tr>\n",
              "  </thead>\n",
              "  <tbody>\n",
              "    <tr>\n",
              "      <th>159</th>\n",
              "      <td>0</td>\n",
              "      <td>0.827377</td>\n",
              "      <td>1</td>\n",
              "      <td>-0.104637</td>\n",
              "      <td>6.784163</td>\n",
              "      <td>2.008933</td>\n",
              "      <td>-0.449108</td>\n",
              "      <td>0.751946</td>\n",
              "      <td>0</td>\n",
              "      <td>0</td>\n",
              "      <td>1</td>\n",
              "    </tr>\n",
              "    <tr>\n",
              "      <th>516</th>\n",
              "      <td>1</td>\n",
              "      <td>-0.369365</td>\n",
              "      <td>0</td>\n",
              "      <td>0.356462</td>\n",
              "      <td>-0.474545</td>\n",
              "      <td>-0.473674</td>\n",
              "      <td>-0.400459</td>\n",
              "      <td>-0.437007</td>\n",
              "      <td>0</td>\n",
              "      <td>0</td>\n",
              "      <td>1</td>\n",
              "    </tr>\n",
              "    <tr>\n",
              "      <th>339</th>\n",
              "      <td>0</td>\n",
              "      <td>-1.566107</td>\n",
              "      <td>1</td>\n",
              "      <td>1.201810</td>\n",
              "      <td>-0.474545</td>\n",
              "      <td>-0.473674</td>\n",
              "      <td>-0.279246</td>\n",
              "      <td>0.066360</td>\n",
              "      <td>0</td>\n",
              "      <td>0</td>\n",
              "      <td>1</td>\n",
              "    </tr>\n",
              "    <tr>\n",
              "      <th>19</th>\n",
              "      <td>1</td>\n",
              "      <td>0.827377</td>\n",
              "      <td>0</td>\n",
              "      <td>-0.104637</td>\n",
              "      <td>-0.474545</td>\n",
              "      <td>-0.473674</td>\n",
              "      <td>-0.448641</td>\n",
              "      <td>-0.502949</td>\n",
              "      <td>1</td>\n",
              "      <td>0</td>\n",
              "      <td>0</td>\n",
              "    </tr>\n",
              "    <tr>\n",
              "      <th>235</th>\n",
              "      <td>0</td>\n",
              "      <td>0.827377</td>\n",
              "      <td>0</td>\n",
              "      <td>-0.104637</td>\n",
              "      <td>-0.474545</td>\n",
              "      <td>-0.473674</td>\n",
              "      <td>-0.442606</td>\n",
              "      <td>-0.496405</td>\n",
              "      <td>0</td>\n",
              "      <td>0</td>\n",
              "      <td>1</td>\n",
              "    </tr>\n",
              "    <tr>\n",
              "      <th>687</th>\n",
              "      <td>0</td>\n",
              "      <td>0.827377</td>\n",
              "      <td>1</td>\n",
              "      <td>-0.796286</td>\n",
              "      <td>-0.474545</td>\n",
              "      <td>-0.473674</td>\n",
              "      <td>0.079624</td>\n",
              "      <td>-0.443636</td>\n",
              "      <td>0</td>\n",
              "      <td>0</td>\n",
              "      <td>1</td>\n",
              "    </tr>\n",
              "    <tr>\n",
              "      <th>120</th>\n",
              "      <td>0</td>\n",
              "      <td>-0.369365</td>\n",
              "      <td>1</td>\n",
              "      <td>-0.642586</td>\n",
              "      <td>1.340132</td>\n",
              "      <td>-0.473674</td>\n",
              "      <td>-0.430000</td>\n",
              "      <td>0.831478</td>\n",
              "      <td>0</td>\n",
              "      <td>0</td>\n",
              "      <td>1</td>\n",
              "    </tr>\n",
              "    <tr>\n",
              "      <th>490</th>\n",
              "      <td>0</td>\n",
              "      <td>0.827377</td>\n",
              "      <td>1</td>\n",
              "      <td>-0.104637</td>\n",
              "      <td>0.432793</td>\n",
              "      <td>-0.473674</td>\n",
              "      <td>-0.353141</td>\n",
              "      <td>-0.246398</td>\n",
              "      <td>0</td>\n",
              "      <td>0</td>\n",
              "      <td>1</td>\n",
              "    </tr>\n",
              "    <tr>\n",
              "      <th>244</th>\n",
              "      <td>0</td>\n",
              "      <td>0.827377</td>\n",
              "      <td>1</td>\n",
              "      <td>0.049062</td>\n",
              "      <td>-0.474545</td>\n",
              "      <td>-0.473674</td>\n",
              "      <td>-0.448573</td>\n",
              "      <td>-0.502949</td>\n",
              "      <td>1</td>\n",
              "      <td>0</td>\n",
              "      <td>0</td>\n",
              "    </tr>\n",
              "    <tr>\n",
              "      <th>400</th>\n",
              "      <td>1</td>\n",
              "      <td>0.827377</td>\n",
              "      <td>1</td>\n",
              "      <td>0.740711</td>\n",
              "      <td>-0.474545</td>\n",
              "      <td>-0.473674</td>\n",
              "      <td>4.274392</td>\n",
              "      <td>-0.488854</td>\n",
              "      <td>0</td>\n",
              "      <td>0</td>\n",
              "      <td>1</td>\n",
              "    </tr>\n",
              "  </tbody>\n",
              "</table>\n",
              "</div>"
            ],
            "text/plain": [
              "     Survived    Pclass  Sex       Age     SibSp  ...    Ticket      Fare  C  Q  S\n",
              "159         0  0.827377    1 -0.104637  6.784163  ... -0.449108  0.751946  0  0  1\n",
              "516         1 -0.369365    0  0.356462 -0.474545  ... -0.400459 -0.437007  0  0  1\n",
              "339         0 -1.566107    1  1.201810 -0.474545  ... -0.279246  0.066360  0  0  1\n",
              "19          1  0.827377    0 -0.104637 -0.474545  ... -0.448641 -0.502949  1  0  0\n",
              "235         0  0.827377    0 -0.104637 -0.474545  ... -0.442606 -0.496405  0  0  1\n",
              "687         0  0.827377    1 -0.796286 -0.474545  ...  0.079624 -0.443636  0  0  1\n",
              "120         0 -0.369365    1 -0.642586  1.340132  ... -0.430000  0.831478  0  0  1\n",
              "490         0  0.827377    1 -0.104637  0.432793  ... -0.353141 -0.246398  0  0  1\n",
              "244         0  0.827377    1  0.049062 -0.474545  ... -0.448573 -0.502949  1  0  0\n",
              "400         1  0.827377    1  0.740711 -0.474545  ...  4.274392 -0.488854  0  0  1\n",
              "\n",
              "[10 rows x 11 columns]"
            ]
          },
          "metadata": {
            "tags": []
          },
          "execution_count": 83
        }
      ]
    },
    {
      "cell_type": "code",
      "metadata": {
        "id": "G0hrTCIMFd31",
        "colab_type": "code",
        "colab": {
          "base_uri": "https://localhost:8080/",
          "height": 359
        },
        "outputId": "0d2ff83f-50ef-4e68-9db2-8e5528c94d43"
      },
      "source": [
        "test_df, _ = preprocessing_data('test.csv', scaller)\n",
        "test_df.sample(10)"
      ],
      "execution_count": 85,
      "outputs": [
        {
          "output_type": "execute_result",
          "data": {
            "text/html": [
              "<div>\n",
              "<style scoped>\n",
              "    .dataframe tbody tr th:only-of-type {\n",
              "        vertical-align: middle;\n",
              "    }\n",
              "\n",
              "    .dataframe tbody tr th {\n",
              "        vertical-align: top;\n",
              "    }\n",
              "\n",
              "    .dataframe thead th {\n",
              "        text-align: right;\n",
              "    }\n",
              "</style>\n",
              "<table border=\"1\" class=\"dataframe\">\n",
              "  <thead>\n",
              "    <tr style=\"text-align: right;\">\n",
              "      <th></th>\n",
              "      <th>Pclass</th>\n",
              "      <th>Sex</th>\n",
              "      <th>Age</th>\n",
              "      <th>SibSp</th>\n",
              "      <th>Parch</th>\n",
              "      <th>Ticket</th>\n",
              "      <th>Fare</th>\n",
              "      <th>C</th>\n",
              "      <th>Q</th>\n",
              "      <th>S</th>\n",
              "    </tr>\n",
              "  </thead>\n",
              "  <tbody>\n",
              "    <tr>\n",
              "      <th>218</th>\n",
              "      <td>-1.566107</td>\n",
              "      <td>0</td>\n",
              "      <td>1.586059</td>\n",
              "      <td>0.432793</td>\n",
              "      <td>0.767630</td>\n",
              "      <td>-0.279675</td>\n",
              "      <td>3.610065</td>\n",
              "      <td>1</td>\n",
              "      <td>0</td>\n",
              "      <td>0</td>\n",
              "    </tr>\n",
              "    <tr>\n",
              "      <th>168</th>\n",
              "      <td>-1.566107</td>\n",
              "      <td>0</td>\n",
              "      <td>-0.181487</td>\n",
              "      <td>-0.474545</td>\n",
              "      <td>-0.473674</td>\n",
              "      <td>-0.425594</td>\n",
              "      <td>-0.090272</td>\n",
              "      <td>1</td>\n",
              "      <td>0</td>\n",
              "      <td>0</td>\n",
              "    </tr>\n",
              "    <tr>\n",
              "      <th>316</th>\n",
              "      <td>-1.566107</td>\n",
              "      <td>1</td>\n",
              "      <td>2.124008</td>\n",
              "      <td>0.432793</td>\n",
              "      <td>-0.473674</td>\n",
              "      <td>-0.425900</td>\n",
              "      <td>2.301729</td>\n",
              "      <td>1</td>\n",
              "      <td>0</td>\n",
              "      <td>0</td>\n",
              "    </tr>\n",
              "    <tr>\n",
              "      <th>403</th>\n",
              "      <td>-1.566107</td>\n",
              "      <td>1</td>\n",
              "      <td>-0.949986</td>\n",
              "      <td>-0.474545</td>\n",
              "      <td>-0.473674</td>\n",
              "      <td>-0.280351</td>\n",
              "      <td>0.299922</td>\n",
              "      <td>0</td>\n",
              "      <td>0</td>\n",
              "      <td>1</td>\n",
              "    </tr>\n",
              "    <tr>\n",
              "      <th>175</th>\n",
              "      <td>-0.369365</td>\n",
              "      <td>0</td>\n",
              "      <td>-1.103685</td>\n",
              "      <td>-0.474545</td>\n",
              "      <td>2.008933</td>\n",
              "      <td>-0.407333</td>\n",
              "      <td>0.136831</td>\n",
              "      <td>0</td>\n",
              "      <td>0</td>\n",
              "      <td>1</td>\n",
              "    </tr>\n",
              "    <tr>\n",
              "      <th>217</th>\n",
              "      <td>-1.566107</td>\n",
              "      <td>1</td>\n",
              "      <td>2.124008</td>\n",
              "      <td>0.432793</td>\n",
              "      <td>0.767630</td>\n",
              "      <td>-0.396392</td>\n",
              "      <td>2.671118</td>\n",
              "      <td>0</td>\n",
              "      <td>0</td>\n",
              "      <td>1</td>\n",
              "    </tr>\n",
              "    <tr>\n",
              "      <th>302</th>\n",
              "      <td>-0.369365</td>\n",
              "      <td>1</td>\n",
              "      <td>1.048110</td>\n",
              "      <td>-0.474545</td>\n",
              "      <td>0.767630</td>\n",
              "      <td>-0.452676</td>\n",
              "      <td>-0.225593</td>\n",
              "      <td>0</td>\n",
              "      <td>0</td>\n",
              "      <td>1</td>\n",
              "    </tr>\n",
              "    <tr>\n",
              "      <th>292</th>\n",
              "      <td>0.827377</td>\n",
              "      <td>1</td>\n",
              "      <td>-0.181487</td>\n",
              "      <td>-0.474545</td>\n",
              "      <td>-0.473674</td>\n",
              "      <td>-0.448637</td>\n",
              "      <td>-0.502864</td>\n",
              "      <td>1</td>\n",
              "      <td>0</td>\n",
              "      <td>0</td>\n",
              "    </tr>\n",
              "    <tr>\n",
              "      <th>238</th>\n",
              "      <td>-0.369365</td>\n",
              "      <td>0</td>\n",
              "      <td>-0.873136</td>\n",
              "      <td>0.432793</td>\n",
              "      <td>0.767630</td>\n",
              "      <td>-0.070631</td>\n",
              "      <td>-0.386671</td>\n",
              "      <td>0</td>\n",
              "      <td>0</td>\n",
              "      <td>1</td>\n",
              "    </tr>\n",
              "    <tr>\n",
              "      <th>212</th>\n",
              "      <td>-0.369365</td>\n",
              "      <td>1</td>\n",
              "      <td>-0.949986</td>\n",
              "      <td>-0.474545</td>\n",
              "      <td>-0.473674</td>\n",
              "      <td>-0.430000</td>\n",
              "      <td>0.831478</td>\n",
              "      <td>0</td>\n",
              "      <td>0</td>\n",
              "      <td>1</td>\n",
              "    </tr>\n",
              "  </tbody>\n",
              "</table>\n",
              "</div>"
            ],
            "text/plain": [
              "       Pclass  Sex       Age     SibSp     Parch    Ticket      Fare  C  Q  S\n",
              "218 -1.566107    0  1.586059  0.432793  0.767630 -0.279675  3.610065  1  0  0\n",
              "168 -1.566107    0 -0.181487 -0.474545 -0.473674 -0.425594 -0.090272  1  0  0\n",
              "316 -1.566107    1  2.124008  0.432793 -0.473674 -0.425900  2.301729  1  0  0\n",
              "403 -1.566107    1 -0.949986 -0.474545 -0.473674 -0.280351  0.299922  0  0  1\n",
              "175 -0.369365    0 -1.103685 -0.474545  2.008933 -0.407333  0.136831  0  0  1\n",
              "217 -1.566107    1  2.124008  0.432793  0.767630 -0.396392  2.671118  0  0  1\n",
              "302 -0.369365    1  1.048110 -0.474545  0.767630 -0.452676 -0.225593  0  0  1\n",
              "292  0.827377    1 -0.181487 -0.474545 -0.473674 -0.448637 -0.502864  1  0  0\n",
              "238 -0.369365    0 -0.873136  0.432793  0.767630 -0.070631 -0.386671  0  0  1\n",
              "212 -0.369365    1 -0.949986 -0.474545 -0.473674 -0.430000  0.831478  0  0  1"
            ]
          },
          "metadata": {
            "tags": []
          },
          "execution_count": 85
        }
      ]
    },
    {
      "cell_type": "code",
      "metadata": {
        "id": "kCtNBroMK21r",
        "colab_type": "code",
        "colab": {}
      },
      "source": [
        ""
      ],
      "execution_count": null,
      "outputs": []
    }
  ]
}