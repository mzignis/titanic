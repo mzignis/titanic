{
  "nbformat": 4,
  "nbformat_minor": 0,
  "metadata": {
    "colab": {
      "name": "models.ipynb",
      "provenance": [],
      "mount_file_id": "1OwRa_F8lj7HrXo3TyJt9Vbqxf-lKjYWj",
      "authorship_tag": "ABX9TyNDIyezG/B2rQRiYY6N4hlR",
      "include_colab_link": true
    },
    "kernelspec": {
      "name": "python3",
      "display_name": "Python 3"
    }
  },
  "cells": [
    {
      "cell_type": "markdown",
      "metadata": {
        "id": "view-in-github",
        "colab_type": "text"
      },
      "source": [
        "<a href=\"https://colab.research.google.com/github/mzignis/titanic/blob/master/models.ipynb\" target=\"_parent\"><img src=\"https://colab.research.google.com/assets/colab-badge.svg\" alt=\"Open In Colab\"/></a>"
      ]
    },
    {
      "cell_type": "code",
      "metadata": {
        "id": "hpZb0eoyyqjf",
        "colab_type": "code",
        "colab": {}
      },
      "source": [
        "import os\n",
        "\n",
        "import matplotlib.pyplot as plt\n",
        "import numpy as np\n",
        "import pandas as pd\n",
        "import seaborn as sns\n",
        "\n",
        "from sklearn.linear_model import LogisticRegression\n",
        "from sklearn.ensemble import RandomForestClassifier\n",
        "from sklearn.metrics import confusion_matrix, f1_score, accuracy_score\n",
        "\n",
        "sns.set()"
      ],
      "execution_count": 44,
      "outputs": []
    },
    {
      "cell_type": "code",
      "metadata": {
        "id": "yLkgsdFPy01G",
        "colab_type": "code",
        "colab": {
          "base_uri": "https://localhost:8080/",
          "height": 34
        },
        "outputId": "b8398f4e-abbe-40a3-c684-a9fa97b59d4f"
      },
      "source": [
        "HOME = '/content/drive/My Drive/ml_competition/titanic'\n",
        "%cd $HOME"
      ],
      "execution_count": 45,
      "outputs": [
        {
          "output_type": "stream",
          "text": [
            "/content/drive/My Drive/ml_competition/titanic\n"
          ],
          "name": "stdout"
        }
      ]
    },
    {
      "cell_type": "code",
      "metadata": {
        "id": "frHNPKFqy_gS",
        "colab_type": "code",
        "colab": {
          "base_uri": "https://localhost:8080/",
          "height": 102
        },
        "outputId": "ff6c34ab-757e-4605-c7cb-fb04293e29a0"
      },
      "source": [
        "data_dir = os.path.join(HOME, 'data')\n",
        "os.listdir(data_dir)"
      ],
      "execution_count": 46,
      "outputs": [
        {
          "output_type": "execute_result",
          "data": {
            "text/plain": [
              "['test.csv',\n",
              " 'train.csv',\n",
              " 'gender_submission.csv',\n",
              " 'train_preprocessed.csv',\n",
              " 'test_preprocessed.csv']"
            ]
          },
          "metadata": {
            "tags": []
          },
          "execution_count": 46
        }
      ]
    },
    {
      "cell_type": "code",
      "metadata": {
        "id": "mD313qjKMAST",
        "colab_type": "code",
        "colab": {
          "base_uri": "https://localhost:8080/",
          "height": 359
        },
        "outputId": "d70d8bec-3faf-4106-e7cc-2155757086c3"
      },
      "source": [
        "train_data = pd.read_csv(os.path.join(data_dir, 'train_preprocessed.csv'), index_col=0)\n",
        "train_data.sample(10)"
      ],
      "execution_count": 47,
      "outputs": [
        {
          "output_type": "execute_result",
          "data": {
            "text/html": [
              "<div>\n",
              "<style scoped>\n",
              "    .dataframe tbody tr th:only-of-type {\n",
              "        vertical-align: middle;\n",
              "    }\n",
              "\n",
              "    .dataframe tbody tr th {\n",
              "        vertical-align: top;\n",
              "    }\n",
              "\n",
              "    .dataframe thead th {\n",
              "        text-align: right;\n",
              "    }\n",
              "</style>\n",
              "<table border=\"1\" class=\"dataframe\">\n",
              "  <thead>\n",
              "    <tr style=\"text-align: right;\">\n",
              "      <th></th>\n",
              "      <th>Survived</th>\n",
              "      <th>Pclass</th>\n",
              "      <th>Sex</th>\n",
              "      <th>Age</th>\n",
              "      <th>SibSp</th>\n",
              "      <th>Parch</th>\n",
              "      <th>Ticket</th>\n",
              "      <th>Fare</th>\n",
              "      <th>C</th>\n",
              "      <th>Q</th>\n",
              "      <th>S</th>\n",
              "    </tr>\n",
              "  </thead>\n",
              "  <tbody>\n",
              "    <tr>\n",
              "      <th>775</th>\n",
              "      <td>0.0</td>\n",
              "      <td>0.827377</td>\n",
              "      <td>1.0</td>\n",
              "      <td>-0.873136</td>\n",
              "      <td>-0.474545</td>\n",
              "      <td>-0.473674</td>\n",
              "      <td>0.076347</td>\n",
              "      <td>-0.492378</td>\n",
              "      <td>0.0</td>\n",
              "      <td>0.0</td>\n",
              "      <td>1.0</td>\n",
              "    </tr>\n",
              "    <tr>\n",
              "      <th>281</th>\n",
              "      <td>0.0</td>\n",
              "      <td>0.827377</td>\n",
              "      <td>1.0</td>\n",
              "      <td>-0.104637</td>\n",
              "      <td>-0.474545</td>\n",
              "      <td>-0.473674</td>\n",
              "      <td>0.076935</td>\n",
              "      <td>-0.490280</td>\n",
              "      <td>0.0</td>\n",
              "      <td>0.0</td>\n",
              "      <td>1.0</td>\n",
              "    </tr>\n",
              "    <tr>\n",
              "      <th>256</th>\n",
              "      <td>1.0</td>\n",
              "      <td>-1.566107</td>\n",
              "      <td>0.0</td>\n",
              "      <td>-0.104637</td>\n",
              "      <td>-0.474545</td>\n",
              "      <td>-0.473674</td>\n",
              "      <td>-0.425876</td>\n",
              "      <td>0.946246</td>\n",
              "      <td>1.0</td>\n",
              "      <td>0.0</td>\n",
              "      <td>0.0</td>\n",
              "    </tr>\n",
              "    <tr>\n",
              "      <th>435</th>\n",
              "      <td>1.0</td>\n",
              "      <td>-1.566107</td>\n",
              "      <td>0.0</td>\n",
              "      <td>-1.180535</td>\n",
              "      <td>0.432793</td>\n",
              "      <td>2.008933</td>\n",
              "      <td>-0.279283</td>\n",
              "      <td>1.767741</td>\n",
              "      <td>0.0</td>\n",
              "      <td>0.0</td>\n",
              "      <td>1.0</td>\n",
              "    </tr>\n",
              "    <tr>\n",
              "      <th>257</th>\n",
              "      <td>1.0</td>\n",
              "      <td>-1.566107</td>\n",
              "      <td>0.0</td>\n",
              "      <td>0.049062</td>\n",
              "      <td>-0.474545</td>\n",
              "      <td>-0.473674</td>\n",
              "      <td>-0.284782</td>\n",
              "      <td>1.093229</td>\n",
              "      <td>0.0</td>\n",
              "      <td>0.0</td>\n",
              "      <td>1.0</td>\n",
              "    </tr>\n",
              "    <tr>\n",
              "      <th>866</th>\n",
              "      <td>1.0</td>\n",
              "      <td>-0.369365</td>\n",
              "      <td>0.0</td>\n",
              "      <td>-0.181487</td>\n",
              "      <td>0.432793</td>\n",
              "      <td>-0.473674</td>\n",
              "      <td>-0.449404</td>\n",
              "      <td>-0.369389</td>\n",
              "      <td>1.0</td>\n",
              "      <td>0.0</td>\n",
              "      <td>0.0</td>\n",
              "    </tr>\n",
              "    <tr>\n",
              "      <th>9</th>\n",
              "      <td>1.0</td>\n",
              "      <td>-0.369365</td>\n",
              "      <td>0.0</td>\n",
              "      <td>-1.180535</td>\n",
              "      <td>0.432793</td>\n",
              "      <td>-0.473674</td>\n",
              "      <td>-0.090315</td>\n",
              "      <td>-0.042956</td>\n",
              "      <td>1.0</td>\n",
              "      <td>0.0</td>\n",
              "      <td>0.0</td>\n",
              "    </tr>\n",
              "    <tr>\n",
              "      <th>16</th>\n",
              "      <td>0.0</td>\n",
              "      <td>0.827377</td>\n",
              "      <td>1.0</td>\n",
              "      <td>-2.102733</td>\n",
              "      <td>3.154809</td>\n",
              "      <td>0.767630</td>\n",
              "      <td>0.130570</td>\n",
              "      <td>-0.061999</td>\n",
              "      <td>0.0</td>\n",
              "      <td>1.0</td>\n",
              "      <td>0.0</td>\n",
              "    </tr>\n",
              "    <tr>\n",
              "      <th>239</th>\n",
              "      <td>0.0</td>\n",
              "      <td>-0.369365</td>\n",
              "      <td>1.0</td>\n",
              "      <td>0.279612</td>\n",
              "      <td>-0.474545</td>\n",
              "      <td>-0.473674</td>\n",
              "      <td>-0.450263</td>\n",
              "      <td>-0.401268</td>\n",
              "      <td>0.0</td>\n",
              "      <td>0.0</td>\n",
              "      <td>1.0</td>\n",
              "    </tr>\n",
              "    <tr>\n",
              "      <th>126</th>\n",
              "      <td>0.0</td>\n",
              "      <td>0.827377</td>\n",
              "      <td>1.0</td>\n",
              "      <td>-0.104637</td>\n",
              "      <td>-0.474545</td>\n",
              "      <td>-0.473674</td>\n",
              "      <td>0.111852</td>\n",
              "      <td>-0.492378</td>\n",
              "      <td>0.0</td>\n",
              "      <td>1.0</td>\n",
              "      <td>0.0</td>\n",
              "    </tr>\n",
              "  </tbody>\n",
              "</table>\n",
              "</div>"
            ],
            "text/plain": [
              "     Survived    Pclass  Sex       Age  ...      Fare    C    Q    S\n",
              "775       0.0  0.827377  1.0 -0.873136  ... -0.492378  0.0  0.0  1.0\n",
              "281       0.0  0.827377  1.0 -0.104637  ... -0.490280  0.0  0.0  1.0\n",
              "256       1.0 -1.566107  0.0 -0.104637  ...  0.946246  1.0  0.0  0.0\n",
              "435       1.0 -1.566107  0.0 -1.180535  ...  1.767741  0.0  0.0  1.0\n",
              "257       1.0 -1.566107  0.0  0.049062  ...  1.093229  0.0  0.0  1.0\n",
              "866       1.0 -0.369365  0.0 -0.181487  ... -0.369389  1.0  0.0  0.0\n",
              "9         1.0 -0.369365  0.0 -1.180535  ... -0.042956  1.0  0.0  0.0\n",
              "16        0.0  0.827377  1.0 -2.102733  ... -0.061999  0.0  1.0  0.0\n",
              "239       0.0 -0.369365  1.0  0.279612  ... -0.401268  0.0  0.0  1.0\n",
              "126       0.0  0.827377  1.0 -0.104637  ... -0.492378  0.0  1.0  0.0\n",
              "\n",
              "[10 rows x 11 columns]"
            ]
          },
          "metadata": {
            "tags": []
          },
          "execution_count": 47
        }
      ]
    },
    {
      "cell_type": "code",
      "metadata": {
        "id": "iY2mhiJ4Psnf",
        "colab_type": "code",
        "colab": {
          "base_uri": "https://localhost:8080/",
          "height": 359
        },
        "outputId": "bd40ce54-1d37-4038-910f-e5fbd4e85636"
      },
      "source": [
        "test_data = pd.read_csv(os.path.join(data_dir, 'test_preprocessed.csv'), index_col=0)\n",
        "test_data.head(10)"
      ],
      "execution_count": 48,
      "outputs": [
        {
          "output_type": "execute_result",
          "data": {
            "text/html": [
              "<div>\n",
              "<style scoped>\n",
              "    .dataframe tbody tr th:only-of-type {\n",
              "        vertical-align: middle;\n",
              "    }\n",
              "\n",
              "    .dataframe tbody tr th {\n",
              "        vertical-align: top;\n",
              "    }\n",
              "\n",
              "    .dataframe thead th {\n",
              "        text-align: right;\n",
              "    }\n",
              "</style>\n",
              "<table border=\"1\" class=\"dataframe\">\n",
              "  <thead>\n",
              "    <tr style=\"text-align: right;\">\n",
              "      <th></th>\n",
              "      <th>Pclass</th>\n",
              "      <th>Sex</th>\n",
              "      <th>Age</th>\n",
              "      <th>SibSp</th>\n",
              "      <th>Parch</th>\n",
              "      <th>Ticket</th>\n",
              "      <th>Fare</th>\n",
              "      <th>C</th>\n",
              "      <th>Q</th>\n",
              "      <th>S</th>\n",
              "    </tr>\n",
              "  </thead>\n",
              "  <tbody>\n",
              "    <tr>\n",
              "      <th>0</th>\n",
              "      <td>0.827377</td>\n",
              "      <td>1.0</td>\n",
              "      <td>0.394887</td>\n",
              "      <td>-0.474545</td>\n",
              "      <td>-0.473674</td>\n",
              "      <td>0.051705</td>\n",
              "      <td>-0.490783</td>\n",
              "      <td>0.0</td>\n",
              "      <td>1.0</td>\n",
              "      <td>0.0</td>\n",
              "    </tr>\n",
              "    <tr>\n",
              "      <th>1</th>\n",
              "      <td>0.827377</td>\n",
              "      <td>0.0</td>\n",
              "      <td>1.355510</td>\n",
              "      <td>0.432793</td>\n",
              "      <td>-0.473674</td>\n",
              "      <td>0.101030</td>\n",
              "      <td>-0.507479</td>\n",
              "      <td>0.0</td>\n",
              "      <td>0.0</td>\n",
              "      <td>1.0</td>\n",
              "    </tr>\n",
              "    <tr>\n",
              "      <th>2</th>\n",
              "      <td>-0.369365</td>\n",
              "      <td>1.0</td>\n",
              "      <td>2.508257</td>\n",
              "      <td>-0.474545</td>\n",
              "      <td>-0.473674</td>\n",
              "      <td>-0.086444</td>\n",
              "      <td>-0.453367</td>\n",
              "      <td>0.0</td>\n",
              "      <td>1.0</td>\n",
              "      <td>0.0</td>\n",
              "    </tr>\n",
              "    <tr>\n",
              "      <th>3</th>\n",
              "      <td>0.827377</td>\n",
              "      <td>1.0</td>\n",
              "      <td>-0.181487</td>\n",
              "      <td>-0.474545</td>\n",
              "      <td>-0.473674</td>\n",
              "      <td>0.027687</td>\n",
              "      <td>-0.474005</td>\n",
              "      <td>0.0</td>\n",
              "      <td>0.0</td>\n",
              "      <td>1.0</td>\n",
              "    </tr>\n",
              "    <tr>\n",
              "      <th>4</th>\n",
              "      <td>0.827377</td>\n",
              "      <td>0.0</td>\n",
              "      <td>-0.565736</td>\n",
              "      <td>0.432793</td>\n",
              "      <td>0.767630</td>\n",
              "      <td>4.274406</td>\n",
              "      <td>-0.401017</td>\n",
              "      <td>0.0</td>\n",
              "      <td>0.0</td>\n",
              "      <td>1.0</td>\n",
              "    </tr>\n",
              "    <tr>\n",
              "      <th>5</th>\n",
              "      <td>0.827377</td>\n",
              "      <td>1.0</td>\n",
              "      <td>-1.180535</td>\n",
              "      <td>-0.474545</td>\n",
              "      <td>-0.473674</td>\n",
              "      <td>-0.441190</td>\n",
              "      <td>-0.462679</td>\n",
              "      <td>0.0</td>\n",
              "      <td>0.0</td>\n",
              "      <td>1.0</td>\n",
              "    </tr>\n",
              "    <tr>\n",
              "      <th>6</th>\n",
              "      <td>0.827377</td>\n",
              "      <td>0.0</td>\n",
              "      <td>0.049062</td>\n",
              "      <td>-0.474545</td>\n",
              "      <td>-0.473674</td>\n",
              "      <td>0.051798</td>\n",
              "      <td>-0.494810</td>\n",
              "      <td>0.0</td>\n",
              "      <td>1.0</td>\n",
              "      <td>0.0</td>\n",
              "    </tr>\n",
              "    <tr>\n",
              "      <th>7</th>\n",
              "      <td>-0.369365</td>\n",
              "      <td>1.0</td>\n",
              "      <td>-0.258337</td>\n",
              "      <td>0.432793</td>\n",
              "      <td>0.767630</td>\n",
              "      <td>-0.073546</td>\n",
              "      <td>-0.064516</td>\n",
              "      <td>0.0</td>\n",
              "      <td>0.0</td>\n",
              "      <td>1.0</td>\n",
              "    </tr>\n",
              "    <tr>\n",
              "      <th>8</th>\n",
              "      <td>0.827377</td>\n",
              "      <td>0.0</td>\n",
              "      <td>-0.873136</td>\n",
              "      <td>-0.474545</td>\n",
              "      <td>-0.473674</td>\n",
              "      <td>-0.448629</td>\n",
              "      <td>-0.502864</td>\n",
              "      <td>1.0</td>\n",
              "      <td>0.0</td>\n",
              "      <td>0.0</td>\n",
              "    </tr>\n",
              "    <tr>\n",
              "      <th>9</th>\n",
              "      <td>0.827377</td>\n",
              "      <td>1.0</td>\n",
              "      <td>-0.642586</td>\n",
              "      <td>1.340132</td>\n",
              "      <td>-0.473674</td>\n",
              "      <td>-0.378189</td>\n",
              "      <td>-0.162169</td>\n",
              "      <td>0.0</td>\n",
              "      <td>0.0</td>\n",
              "      <td>1.0</td>\n",
              "    </tr>\n",
              "  </tbody>\n",
              "</table>\n",
              "</div>"
            ],
            "text/plain": [
              "     Pclass  Sex       Age     SibSp  ...      Fare    C    Q    S\n",
              "0  0.827377  1.0  0.394887 -0.474545  ... -0.490783  0.0  1.0  0.0\n",
              "1  0.827377  0.0  1.355510  0.432793  ... -0.507479  0.0  0.0  1.0\n",
              "2 -0.369365  1.0  2.508257 -0.474545  ... -0.453367  0.0  1.0  0.0\n",
              "3  0.827377  1.0 -0.181487 -0.474545  ... -0.474005  0.0  0.0  1.0\n",
              "4  0.827377  0.0 -0.565736  0.432793  ... -0.401017  0.0  0.0  1.0\n",
              "5  0.827377  1.0 -1.180535 -0.474545  ... -0.462679  0.0  0.0  1.0\n",
              "6  0.827377  0.0  0.049062 -0.474545  ... -0.494810  0.0  1.0  0.0\n",
              "7 -0.369365  1.0 -0.258337  0.432793  ... -0.064516  0.0  0.0  1.0\n",
              "8  0.827377  0.0 -0.873136 -0.474545  ... -0.502864  1.0  0.0  0.0\n",
              "9  0.827377  1.0 -0.642586  1.340132  ... -0.162169  0.0  0.0  1.0\n",
              "\n",
              "[10 rows x 10 columns]"
            ]
          },
          "metadata": {
            "tags": []
          },
          "execution_count": 48
        }
      ]
    },
    {
      "cell_type": "code",
      "metadata": {
        "id": "iNBLqb5_PzL2",
        "colab_type": "code",
        "colab": {}
      },
      "source": [
        "y_test_data = pd.read_csv(os.path.join(data_dir, 'gender_submission.csv'), index_col=0)"
      ],
      "execution_count": 49,
      "outputs": []
    },
    {
      "cell_type": "code",
      "metadata": {
        "id": "rewVcs-FMaoE",
        "colab_type": "code",
        "colab": {
          "base_uri": "https://localhost:8080/",
          "height": 34
        },
        "outputId": "39ba3a99-dd35-4ee5-f059-bbb1ddb824ae"
      },
      "source": [
        "x, y = train_data.drop(columns=['Survived']).values, train_data['Survived'].values\n",
        "\n",
        "x.shape, y.shape"
      ],
      "execution_count": 50,
      "outputs": [
        {
          "output_type": "execute_result",
          "data": {
            "text/plain": [
              "((891, 10), (891,))"
            ]
          },
          "metadata": {
            "tags": []
          },
          "execution_count": 50
        }
      ]
    },
    {
      "cell_type": "code",
      "metadata": {
        "id": "5f9CGSxqM8ZC",
        "colab_type": "code",
        "colab": {
          "base_uri": "https://localhost:8080/",
          "height": 34
        },
        "outputId": "930a7adc-8c9f-43d6-bf13-f6d7a054917e"
      },
      "source": [
        "x_test = test_data.values\n",
        "y_test = y_test_data.values\n",
        "\n",
        "x_test.shape, y_test.shape"
      ],
      "execution_count": 51,
      "outputs": [
        {
          "output_type": "execute_result",
          "data": {
            "text/plain": [
              "((418, 10), (418, 1))"
            ]
          },
          "metadata": {
            "tags": []
          },
          "execution_count": 51
        }
      ]
    },
    {
      "cell_type": "code",
      "metadata": {
        "id": "pcFbxpVwNLOK",
        "colab_type": "code",
        "colab": {}
      },
      "source": [
        "rnd_forrest = RandomForestClassifier()\n",
        "log_reg = LogisticRegression()"
      ],
      "execution_count": 52,
      "outputs": []
    },
    {
      "cell_type": "code",
      "metadata": {
        "id": "4fMq1leWONx4",
        "colab_type": "code",
        "colab": {}
      },
      "source": [
        "def score_model(model, x_train, y_train, x_test, y_test):\n",
        "    model.fit(x_train, y_train)\n",
        "    y_train_pred = model.predict(x_train)\n",
        "    y_test_pred = model.predict(x_test)\n",
        "\n",
        "    print('======== TRAIN DATA ========')\n",
        "    print(f'Accuracy: {accuracy_score(y_train, y_train_pred)*100:.2f}%')\n",
        "    print(f'F1:       {f1_score(y_train, y_train_pred)*100:.2f}%')\n",
        "    print(confusion_matrix(y_train, y_train_pred))\n",
        "    print('\\n\\n')\n",
        "\n",
        "    print('======== TEST DATA ========')\n",
        "    print(f'Accuracy: {accuracy_score(y_test, y_test_pred) * 100:.2f}%')\n",
        "    print(f'F1:       {f1_score(y_test, y_test_pred) * 100:.2f}%')\n",
        "    print(confusion_matrix(y_test, y_test_pred))"
      ],
      "execution_count": 59,
      "outputs": []
    },
    {
      "cell_type": "code",
      "metadata": {
        "id": "9bbZvQRBRkXH",
        "colab_type": "code",
        "colab": {
          "base_uri": "https://localhost:8080/",
          "height": 238
        },
        "outputId": "20d283c8-1ea0-4a5f-b4ef-41c629ca6a68"
      },
      "source": [
        "score_model(log_reg, x, y, x_test, y_test)"
      ],
      "execution_count": 60,
      "outputs": [
        {
          "output_type": "stream",
          "text": [
            "======== TRAIN DATA ========\n",
            "Accuracy: 79.91%\n",
            "F1:       72.84%\n",
            "[[472  77]\n",
            " [102 240]]\n",
            "\n",
            "\n",
            "\n",
            "======== TEST DATA ========\n",
            "Accuracy: 92.82%\n",
            "F1:       90.32%\n",
            "[[248  18]\n",
            " [ 12 140]]\n"
          ],
          "name": "stdout"
        }
      ]
    },
    {
      "cell_type": "code",
      "metadata": {
        "id": "E3YoGeCsRlmA",
        "colab_type": "code",
        "colab": {
          "base_uri": "https://localhost:8080/",
          "height": 238
        },
        "outputId": "1d67ecd5-5213-4c5c-fc57-2f2763038dc5"
      },
      "source": [
        "score_model(rnd_forrest, x, y, x_test, y_test)"
      ],
      "execution_count": 61,
      "outputs": [
        {
          "output_type": "stream",
          "text": [
            "======== TRAIN DATA ========\n",
            "Accuracy: 99.78%\n",
            "F1:       99.71%\n",
            "[[547   2]\n",
            " [  0 342]]\n",
            "\n",
            "\n",
            "\n",
            "======== TEST DATA ========\n",
            "Accuracy: 85.41%\n",
            "F1:       80.13%\n",
            "[[234  32]\n",
            " [ 29 123]]\n"
          ],
          "name": "stdout"
        }
      ]
    },
    {
      "cell_type": "code",
      "metadata": {
        "id": "gqC7U8xgRqzx",
        "colab_type": "code",
        "colab": {}
      },
      "source": [
        ""
      ],
      "execution_count": null,
      "outputs": []
    }
  ]
}